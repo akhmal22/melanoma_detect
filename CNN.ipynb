{
 "cells": [
  {
   "cell_type": "code",
   "execution_count": 1,
   "metadata": {
    "scrolled": true
   },
   "outputs": [
    {
     "name": "stderr",
     "output_type": "stream",
     "text": [
      "Using TensorFlow backend.\n"
     ]
    }
   ],
   "source": [
    "import numpy as np\n",
    "import tensorflow as tf\n",
    "from keras.models import Model\n",
    "from keras.layers import Input, Activation, Dense, Conv2D, MaxPooling2D, ZeroPadding2D, Flatten\n",
    "from keras.optimizers import Adam\n",
    "from keras.utils.np_utils import to_categorical\n",
    "from keras.callbacks import TensorBoard\n",
    "from keras.datasets import fashion_mnist\n",
    "import cv2\n",
    "import os\n",
    "\n",
    "TRAINDIR = \"ISICArchive/train_set\"\n",
    "\n",
    "TESTDIR = \"ISICArchive/test_set\"\n",
    "\n",
    "CATEGORIES = [\"melanoma\",\"non_melanoma\"]\n",
    "\n",
    "IMG_SIZE = 50"
   ]
  },
  {
   "cell_type": "code",
   "execution_count": 2,
   "metadata": {},
   "outputs": [],
   "source": [
    "train_x = []\n",
    "train_y = []\n",
    "\n",
    "test_x = []\n",
    "test_y = []"
   ]
  },
  {
   "cell_type": "code",
   "execution_count": 3,
   "metadata": {},
   "outputs": [],
   "source": [
    "def create_train_data():\n",
    "    for category in CATEGORIES :\n",
    "        path = os.path.join(TRAINDIR, category)\n",
    "        class_num = CATEGORIES.index(category)\n",
    "        for img in os.listdir(path):\n",
    "            try :\n",
    "                img_array = cv2.imread(os.path.join(path, img), cv2.IMREAD_GRAYSCALE)\n",
    "                new_array = cv2.resize(img_array, (IMG_SIZE, IMG_SIZE))\n",
    "                train_x.append(new_array)\n",
    "                train_y.append(class_num)\n",
    "            except Exception as e:\n",
    "                pass\n",
    "            \n",
    "            \n",
    "def create_test_data():\n",
    "    for category in CATEGORIES :\n",
    "        path = os.path.join(TESTDIR, category)\n",
    "        class_num = CATEGORIES.index(category)\n",
    "        for img in os.listdir(path):\n",
    "            try :\n",
    "                img_array = cv2.imread(os.path.join(path, img), cv2.IMREAD_GRAYSCALE)\n",
    "                new_array = cv2.resize(img_array, (IMG_SIZE, IMG_SIZE))\n",
    "                test_x.append(new_array)\n",
    "                test_y.append(class_num)\n",
    "            except Exception as e:\n",
    "                pass"
   ]
  },
  {
   "cell_type": "code",
   "execution_count": 4,
   "metadata": {},
   "outputs": [],
   "source": [
    "create_train_data()"
   ]
  },
  {
   "cell_type": "code",
   "execution_count": 5,
   "metadata": {},
   "outputs": [],
   "source": [
    "create_test_data()"
   ]
  },
  {
   "cell_type": "code",
   "execution_count": 6,
   "metadata": {},
   "outputs": [],
   "source": [
    "train_x = np.array(train_x).reshape(-1,IMG_SIZE,IMG_SIZE,1)\n",
    "train_y = np.array(train_y)\n",
    "\n",
    "test_x = np.array(test_x).reshape(-1,IMG_SIZE,IMG_SIZE,1)\n",
    "test_y = np.array(test_y)"
   ]
  },
  {
   "cell_type": "code",
   "execution_count": 7,
   "metadata": {
    "scrolled": true
   },
   "outputs": [
    {
     "name": "stdout",
     "output_type": "stream",
     "text": [
      "(2800, 50, 50, 1)\n",
      "(2800,)\n"
     ]
    }
   ],
   "source": [
    "print(train_x.shape)\n",
    "print(train_y.shape)"
   ]
  },
  {
   "cell_type": "code",
   "execution_count": 8,
   "metadata": {},
   "outputs": [
    {
     "name": "stdout",
     "output_type": "stream",
     "text": [
      "<class 'numpy.ndarray'>\n"
     ]
    }
   ],
   "source": [
    "print(type(train_x))"
   ]
  },
  {
   "cell_type": "code",
   "execution_count": 9,
   "metadata": {},
   "outputs": [],
   "source": [
    "train_x = train_x.astype('float32') / 255.\n",
    "test_x = test_x.astype('float32') / 255."
   ]
  },
  {
   "cell_type": "code",
   "execution_count": 10,
   "metadata": {},
   "outputs": [],
   "source": [
    "train_x = np.reshape(train_x, (len(train_x), 50, 50, 1))\n",
    "test_x = np.reshape(test_x, (len(test_x), 50, 50, 1))"
   ]
  },
  {
   "cell_type": "code",
   "execution_count": 11,
   "metadata": {},
   "outputs": [],
   "source": [
    "train_y = to_categorical( train_y )\n",
    "test_y = to_categorical( test_y )"
   ]
  },
  {
   "cell_type": "code",
   "execution_count": 12,
   "metadata": {},
   "outputs": [
    {
     "data": {
      "text/plain": [
       "(2800, 2)"
      ]
     },
     "execution_count": 12,
     "metadata": {},
     "output_type": "execute_result"
    }
   ],
   "source": [
    "train_y.shape"
   ]
  },
  {
   "cell_type": "code",
   "execution_count": 65,
   "metadata": {},
   "outputs": [
    {
     "data": {
      "text/plain": [
       "array([1., 0.], dtype=float32)"
      ]
     },
     "execution_count": 65,
     "metadata": {},
     "output_type": "execute_result"
    }
   ],
   "source": [
    "train_y[0]"
   ]
  },
  {
   "cell_type": "code",
   "execution_count": 13,
   "metadata": {},
   "outputs": [],
   "source": [
    "# Feature Extraction Layer\n",
    "inputs = Input(shape=(50, 50, 1))\n",
    "conv_layer = ZeroPadding2D(padding=(2,2))(inputs)\n",
    "conv_layer = Conv2D(16, (5, 5), strides=(1,1), activation='relu')(conv_layer)\n",
    "conv_layer = MaxPooling2D((2, 2))(conv_layer)\n",
    "conv_layer = Conv2D(32, (3, 3), strides=(1,1), activation='relu')(conv_layer)\n",
    "conv_layer = Conv2D(32, (3, 3), strides=(1,1), activation='relu')(conv_layer)\n",
    "conv_layer = MaxPooling2D((2, 2))(conv_layer)\n",
    "conv_layer = Conv2D(64, (3, 3), strides=(1,1), activation='relu')(conv_layer)"
   ]
  },
  {
   "cell_type": "code",
   "execution_count": 14,
   "metadata": {},
   "outputs": [],
   "source": [
    "# Flatten feature map to Vector with 576 element.\n",
    "flatten = Flatten()(conv_layer)"
   ]
  },
  {
   "cell_type": "code",
   "execution_count": 15,
   "metadata": {},
   "outputs": [],
   "source": [
    "# Fully Connected Layer\n",
    "fc_layer = Dense(256, activation='relu')(flatten)\n",
    "fc_layer = Dense(64, activation='relu')(fc_layer)\n",
    "outputs = Dense(2, activation='softmax')(fc_layer)"
   ]
  },
  {
   "cell_type": "code",
   "execution_count": 16,
   "metadata": {},
   "outputs": [],
   "source": [
    "model = Model(inputs=inputs, outputs=outputs)"
   ]
  },
  {
   "cell_type": "code",
   "execution_count": 17,
   "metadata": {},
   "outputs": [],
   "source": [
    "# Adam Optimizer and Cross Entropy Loss\n",
    "adam = Adam(lr=0.0001)\n",
    "model.compile(optimizer=adam, loss='categorical_crossentropy', metrics=['accuracy'])"
   ]
  },
  {
   "cell_type": "code",
   "execution_count": 18,
   "metadata": {},
   "outputs": [
    {
     "name": "stdout",
     "output_type": "stream",
     "text": [
      "Model: \"model_1\"\n",
      "_________________________________________________________________\n",
      "Layer (type)                 Output Shape              Param #   \n",
      "=================================================================\n",
      "input_1 (InputLayer)         (None, 50, 50, 1)         0         \n",
      "_________________________________________________________________\n",
      "zero_padding2d_1 (ZeroPaddin (None, 54, 54, 1)         0         \n",
      "_________________________________________________________________\n",
      "conv2d_1 (Conv2D)            (None, 50, 50, 16)        416       \n",
      "_________________________________________________________________\n",
      "max_pooling2d_1 (MaxPooling2 (None, 25, 25, 16)        0         \n",
      "_________________________________________________________________\n",
      "conv2d_2 (Conv2D)            (None, 23, 23, 32)        4640      \n",
      "_________________________________________________________________\n",
      "conv2d_3 (Conv2D)            (None, 21, 21, 32)        9248      \n",
      "_________________________________________________________________\n",
      "max_pooling2d_2 (MaxPooling2 (None, 10, 10, 32)        0         \n",
      "_________________________________________________________________\n",
      "conv2d_4 (Conv2D)            (None, 8, 8, 64)          18496     \n",
      "_________________________________________________________________\n",
      "flatten_1 (Flatten)          (None, 4096)              0         \n",
      "_________________________________________________________________\n",
      "dense_1 (Dense)              (None, 256)               1048832   \n",
      "_________________________________________________________________\n",
      "dense_2 (Dense)              (None, 64)                16448     \n",
      "_________________________________________________________________\n",
      "dense_3 (Dense)              (None, 2)                 130       \n",
      "=================================================================\n",
      "Total params: 1,098,210\n",
      "Trainable params: 1,098,210\n",
      "Non-trainable params: 0\n",
      "_________________________________________________________________\n",
      "None\n"
     ]
    }
   ],
   "source": [
    "# Print Model Summary\n",
    "print(model.summary())"
   ]
  },
  {
   "cell_type": "code",
   "execution_count": 19,
   "metadata": {},
   "outputs": [],
   "source": [
    "# Use TensorBoard\n",
    "callbacks = TensorBoard(log_dir='./Graph')"
   ]
  },
  {
   "cell_type": "code",
   "execution_count": 20,
   "metadata": {},
   "outputs": [
    {
     "name": "stdout",
     "output_type": "stream",
     "text": [
      "Train on 2800 samples, validate on 1200 samples\n",
      "Epoch 1/100\n",
      "2800/2800 [==============================] - 8s 3ms/step - loss: 0.6852 - accuracy: 0.5939 - val_loss: 0.6798 - val_accuracy: 0.6417\n",
      "Epoch 2/100\n",
      "2800/2800 [==============================] - 6s 2ms/step - loss: 0.6576 - accuracy: 0.7386 - val_loss: 0.6505 - val_accuracy: 0.6958\n",
      "Epoch 3/100\n",
      "2800/2800 [==============================] - 6s 2ms/step - loss: 0.6016 - accuracy: 0.7943 - val_loss: 0.5878 - val_accuracy: 0.7975\n",
      "Epoch 4/100\n",
      "2800/2800 [==============================] - 6s 2ms/step - loss: 0.5033 - accuracy: 0.8361 - val_loss: 0.5045 - val_accuracy: 0.8167\n",
      "Epoch 5/100\n",
      "2800/2800 [==============================] - 6s 2ms/step - loss: 0.3958 - accuracy: 0.8675 - val_loss: 0.4634 - val_accuracy: 0.8075\n",
      "Epoch 6/100\n",
      "2800/2800 [==============================] - 6s 2ms/step - loss: 0.3155 - accuracy: 0.8804 - val_loss: 0.3935 - val_accuracy: 0.8475\n",
      "Epoch 7/100\n",
      "2800/2800 [==============================] - 6s 2ms/step - loss: 0.2729 - accuracy: 0.8939 - val_loss: 0.3703 - val_accuracy: 0.8583\n",
      "Epoch 8/100\n",
      "2800/2800 [==============================] - 6s 2ms/step - loss: 0.2516 - accuracy: 0.8993 - val_loss: 0.3791 - val_accuracy: 0.8567\n",
      "Epoch 9/100\n",
      "2800/2800 [==============================] - 6s 2ms/step - loss: 0.2460 - accuracy: 0.9054 - val_loss: 0.4042 - val_accuracy: 0.8475\n",
      "Epoch 10/100\n",
      "2800/2800 [==============================] - 7s 3ms/step - loss: 0.2369 - accuracy: 0.9082 - val_loss: 0.3616 - val_accuracy: 0.8642\n",
      "Epoch 11/100\n",
      "2800/2800 [==============================] - 6s 2ms/step - loss: 0.2293 - accuracy: 0.9111 - val_loss: 0.3637 - val_accuracy: 0.8625\n",
      "Epoch 12/100\n",
      "2800/2800 [==============================] - 7s 2ms/step - loss: 0.2214 - accuracy: 0.9150 - val_loss: 0.3471 - val_accuracy: 0.8733\n",
      "Epoch 13/100\n",
      "2800/2800 [==============================] - 8s 3ms/step - loss: 0.2138 - accuracy: 0.9146 - val_loss: 0.3639 - val_accuracy: 0.8633\n",
      "Epoch 14/100\n",
      "2800/2800 [==============================] - 7s 2ms/step - loss: 0.2101 - accuracy: 0.9193 - val_loss: 0.3688 - val_accuracy: 0.8650\n",
      "Epoch 15/100\n",
      "2800/2800 [==============================] - 6s 2ms/step - loss: 0.2097 - accuracy: 0.9204 - val_loss: 0.3809 - val_accuracy: 0.8625\n",
      "Epoch 16/100\n",
      "2800/2800 [==============================] - 6s 2ms/step - loss: 0.2019 - accuracy: 0.9218 - val_loss: 0.3554 - val_accuracy: 0.8658\n",
      "Epoch 17/100\n",
      "2800/2800 [==============================] - 6s 2ms/step - loss: 0.1972 - accuracy: 0.9236 - val_loss: 0.3701 - val_accuracy: 0.8667\n",
      "Epoch 18/100\n",
      "2800/2800 [==============================] - 6s 2ms/step - loss: 0.1955 - accuracy: 0.9250 - val_loss: 0.3438 - val_accuracy: 0.8683\n",
      "Epoch 19/100\n",
      "2800/2800 [==============================] - 7s 2ms/step - loss: 0.1977 - accuracy: 0.9225 - val_loss: 0.3402 - val_accuracy: 0.8683\n",
      "Epoch 20/100\n",
      "2800/2800 [==============================] - 7s 2ms/step - loss: 0.1889 - accuracy: 0.9261 - val_loss: 0.3758 - val_accuracy: 0.8675\n",
      "Epoch 21/100\n",
      "2800/2800 [==============================] - 7s 2ms/step - loss: 0.1867 - accuracy: 0.9275 - val_loss: 0.3036 - val_accuracy: 0.8858\n",
      "Epoch 22/100\n",
      "2800/2800 [==============================] - 7s 2ms/step - loss: 0.1935 - accuracy: 0.9254 - val_loss: 0.3646 - val_accuracy: 0.8700\n",
      "Epoch 23/100\n",
      "2800/2800 [==============================] - 6s 2ms/step - loss: 0.1842 - accuracy: 0.9275 - val_loss: 0.3234 - val_accuracy: 0.8783\n",
      "Epoch 24/100\n",
      "2800/2800 [==============================] - 7s 2ms/step - loss: 0.1768 - accuracy: 0.9307 - val_loss: 0.3290 - val_accuracy: 0.8758\n",
      "Epoch 25/100\n",
      "2800/2800 [==============================] - 6s 2ms/step - loss: 0.1770 - accuracy: 0.9296 - val_loss: 0.2981 - val_accuracy: 0.8917\n",
      "Epoch 26/100\n",
      "2800/2800 [==============================] - 6s 2ms/step - loss: 0.1725 - accuracy: 0.9318 - val_loss: 0.3232 - val_accuracy: 0.8767\n",
      "Epoch 27/100\n",
      "2800/2800 [==============================] - 6s 2ms/step - loss: 0.1713 - accuracy: 0.9311 - val_loss: 0.2829 - val_accuracy: 0.8992\n",
      "Epoch 28/100\n",
      "2800/2800 [==============================] - 6s 2ms/step - loss: 0.1720 - accuracy: 0.9339 - val_loss: 0.3284 - val_accuracy: 0.8775\n",
      "Epoch 29/100\n",
      "2800/2800 [==============================] - 7s 2ms/step - loss: 0.1653 - accuracy: 0.9379 - val_loss: 0.2833 - val_accuracy: 0.8958\n",
      "Epoch 30/100\n",
      "2800/2800 [==============================] - 6s 2ms/step - loss: 0.1664 - accuracy: 0.9361 - val_loss: 0.3025 - val_accuracy: 0.8858\n",
      "Epoch 31/100\n",
      "2800/2800 [==============================] - 6s 2ms/step - loss: 0.1593 - accuracy: 0.9396 - val_loss: 0.3194 - val_accuracy: 0.8833\n",
      "Epoch 32/100\n",
      "2800/2800 [==============================] - 6s 2ms/step - loss: 0.1698 - accuracy: 0.9325 - val_loss: 0.3323 - val_accuracy: 0.8817\n",
      "Epoch 33/100\n",
      "2800/2800 [==============================] - 7s 2ms/step - loss: 0.1618 - accuracy: 0.9368 - val_loss: 0.3419 - val_accuracy: 0.8792\n",
      "Epoch 34/100\n",
      "2800/2800 [==============================] - 7s 2ms/step - loss: 0.1610 - accuracy: 0.9379 - val_loss: 0.2845 - val_accuracy: 0.8925\n",
      "Epoch 35/100\n",
      "2800/2800 [==============================] - 7s 2ms/step - loss: 0.1504 - accuracy: 0.9446 - val_loss: 0.3116 - val_accuracy: 0.8875\n",
      "Epoch 36/100\n",
      "2800/2800 [==============================] - 7s 3ms/step - loss: 0.1520 - accuracy: 0.9407 - val_loss: 0.2957 - val_accuracy: 0.8883\n",
      "Epoch 37/100\n",
      "2800/2800 [==============================] - 7s 2ms/step - loss: 0.1583 - accuracy: 0.9375 - val_loss: 0.3081 - val_accuracy: 0.8883\n",
      "Epoch 38/100\n",
      "2800/2800 [==============================] - 7s 2ms/step - loss: 0.1472 - accuracy: 0.9468 - val_loss: 0.2628 - val_accuracy: 0.9050\n",
      "Epoch 39/100\n",
      "2800/2800 [==============================] - 6s 2ms/step - loss: 0.1434 - accuracy: 0.9439 - val_loss: 0.2738 - val_accuracy: 0.9000\n",
      "Epoch 40/100\n",
      "2800/2800 [==============================] - 6s 2ms/step - loss: 0.1358 - accuracy: 0.9504 - val_loss: 0.2970 - val_accuracy: 0.8900\n",
      "Epoch 41/100\n",
      "2800/2800 [==============================] - 6s 2ms/step - loss: 0.1370 - accuracy: 0.9500 - val_loss: 0.3147 - val_accuracy: 0.8883\n",
      "Epoch 42/100\n",
      "2800/2800 [==============================] - 6s 2ms/step - loss: 0.1333 - accuracy: 0.9511 - val_loss: 0.2461 - val_accuracy: 0.9117\n",
      "Epoch 43/100\n",
      "2800/2800 [==============================] - 7s 2ms/step - loss: 0.1301 - accuracy: 0.9514 - val_loss: 0.2833 - val_accuracy: 0.9000\n",
      "Epoch 44/100\n",
      "2800/2800 [==============================] - 6s 2ms/step - loss: 0.1351 - accuracy: 0.9500 - val_loss: 0.2423 - val_accuracy: 0.9133\n",
      "Epoch 45/100\n",
      "2800/2800 [==============================] - 6s 2ms/step - loss: 0.1282 - accuracy: 0.9521 - val_loss: 0.2387 - val_accuracy: 0.9158\n",
      "Epoch 46/100\n",
      "2800/2800 [==============================] - 6s 2ms/step - loss: 0.1231 - accuracy: 0.9546 - val_loss: 0.2429 - val_accuracy: 0.9158\n",
      "Epoch 47/100\n",
      "2800/2800 [==============================] - 7s 2ms/step - loss: 0.1208 - accuracy: 0.9554 - val_loss: 0.2764 - val_accuracy: 0.9000\n",
      "Epoch 48/100\n",
      "2800/2800 [==============================] - 7s 2ms/step - loss: 0.1181 - accuracy: 0.9579 - val_loss: 0.2507 - val_accuracy: 0.9150\n",
      "Epoch 49/100\n",
      "2800/2800 [==============================] - 7s 2ms/step - loss: 0.1180 - accuracy: 0.9561 - val_loss: 0.2773 - val_accuracy: 0.9008\n",
      "Epoch 50/100\n",
      "2800/2800 [==============================] - 6s 2ms/step - loss: 0.1177 - accuracy: 0.9571 - val_loss: 0.2951 - val_accuracy: 0.9008\n",
      "Epoch 51/100\n",
      "2800/2800 [==============================] - 7s 2ms/step - loss: 0.1208 - accuracy: 0.9550 - val_loss: 0.2238 - val_accuracy: 0.9242\n",
      "Epoch 52/100\n",
      "2800/2800 [==============================] - 7s 2ms/step - loss: 0.1261 - accuracy: 0.9525 - val_loss: 0.3222 - val_accuracy: 0.8908\n",
      "Epoch 53/100\n",
      "2800/2800 [==============================] - 7s 2ms/step - loss: 0.1159 - accuracy: 0.9593 - val_loss: 0.2363 - val_accuracy: 0.9200\n",
      "Epoch 54/100\n",
      "2800/2800 [==============================] - 7s 2ms/step - loss: 0.1053 - accuracy: 0.9629 - val_loss: 0.2484 - val_accuracy: 0.9175\n",
      "Epoch 55/100\n",
      "2800/2800 [==============================] - 7s 2ms/step - loss: 0.1059 - accuracy: 0.9639 - val_loss: 0.2781 - val_accuracy: 0.9083\n",
      "Epoch 56/100\n",
      "2800/2800 [==============================] - 7s 2ms/step - loss: 0.1024 - accuracy: 0.9650 - val_loss: 0.2576 - val_accuracy: 0.9125\n"
     ]
    },
    {
     "name": "stdout",
     "output_type": "stream",
     "text": [
      "Epoch 57/100\n",
      "2800/2800 [==============================] - 6s 2ms/step - loss: 0.1036 - accuracy: 0.9639 - val_loss: 0.2142 - val_accuracy: 0.9258\n",
      "Epoch 58/100\n",
      "2800/2800 [==============================] - 6s 2ms/step - loss: 0.1021 - accuracy: 0.9646 - val_loss: 0.2767 - val_accuracy: 0.9100\n",
      "Epoch 59/100\n",
      "2800/2800 [==============================] - 6s 2ms/step - loss: 0.1044 - accuracy: 0.9607 - val_loss: 0.2246 - val_accuracy: 0.9283\n",
      "Epoch 60/100\n",
      "2800/2800 [==============================] - 6s 2ms/step - loss: 0.0968 - accuracy: 0.9675 - val_loss: 0.2467 - val_accuracy: 0.9192\n",
      "Epoch 61/100\n",
      "2800/2800 [==============================] - 6s 2ms/step - loss: 0.0925 - accuracy: 0.9700 - val_loss: 0.2339 - val_accuracy: 0.9267\n",
      "Epoch 62/100\n",
      "2800/2800 [==============================] - 7s 2ms/step - loss: 0.0936 - accuracy: 0.9675 - val_loss: 0.1987 - val_accuracy: 0.9358\n",
      "Epoch 63/100\n",
      "2800/2800 [==============================] - 7s 2ms/step - loss: 0.0978 - accuracy: 0.9639 - val_loss: 0.4093 - val_accuracy: 0.8717\n",
      "Epoch 64/100\n",
      "2800/2800 [==============================] - 7s 2ms/step - loss: 0.1100 - accuracy: 0.9607 - val_loss: 0.2160 - val_accuracy: 0.9300\n",
      "Epoch 65/100\n",
      "2800/2800 [==============================] - 7s 2ms/step - loss: 0.0938 - accuracy: 0.9686 - val_loss: 0.3031 - val_accuracy: 0.9058\n",
      "Epoch 66/100\n",
      "2800/2800 [==============================] - 6s 2ms/step - loss: 0.0921 - accuracy: 0.9686 - val_loss: 0.2936 - val_accuracy: 0.9033\n",
      "Epoch 67/100\n",
      "2800/2800 [==============================] - 6s 2ms/step - loss: 0.0993 - accuracy: 0.9643 - val_loss: 0.2070 - val_accuracy: 0.9267\n",
      "Epoch 68/100\n",
      "2800/2800 [==============================] - 7s 2ms/step - loss: 0.1041 - accuracy: 0.9593 - val_loss: 0.3639 - val_accuracy: 0.8933\n",
      "Epoch 69/100\n",
      "2800/2800 [==============================] - 7s 2ms/step - loss: 0.0950 - accuracy: 0.9639 - val_loss: 0.2074 - val_accuracy: 0.9350\n",
      "Epoch 70/100\n",
      "2800/2800 [==============================] - 6s 2ms/step - loss: 0.0872 - accuracy: 0.9707 - val_loss: 0.2428 - val_accuracy: 0.9250\n",
      "Epoch 71/100\n",
      "2800/2800 [==============================] - 7s 2ms/step - loss: 0.0824 - accuracy: 0.9721 - val_loss: 0.2215 - val_accuracy: 0.9333\n",
      "Epoch 72/100\n",
      "2800/2800 [==============================] - 6s 2ms/step - loss: 0.0808 - accuracy: 0.9704 - val_loss: 0.2435 - val_accuracy: 0.9217\n",
      "Epoch 73/100\n",
      "2800/2800 [==============================] - 7s 2ms/step - loss: 0.0800 - accuracy: 0.9718 - val_loss: 0.2057 - val_accuracy: 0.9383\n",
      "Epoch 74/100\n",
      "2800/2800 [==============================] - 6s 2ms/step - loss: 0.0827 - accuracy: 0.9696 - val_loss: 0.2429 - val_accuracy: 0.9242\n",
      "Epoch 75/100\n",
      "2800/2800 [==============================] - 6s 2ms/step - loss: 0.0899 - accuracy: 0.9650 - val_loss: 0.2409 - val_accuracy: 0.9292\n",
      "Epoch 76/100\n",
      "2800/2800 [==============================] - 7s 2ms/step - loss: 0.0786 - accuracy: 0.9707 - val_loss: 0.2123 - val_accuracy: 0.9333\n",
      "Epoch 77/100\n",
      "2800/2800 [==============================] - 7s 2ms/step - loss: 0.0745 - accuracy: 0.9736 - val_loss: 0.2060 - val_accuracy: 0.9383\n",
      "Epoch 78/100\n",
      "2800/2800 [==============================] - 7s 2ms/step - loss: 0.0777 - accuracy: 0.9707 - val_loss: 0.2757 - val_accuracy: 0.9142\n",
      "Epoch 79/100\n",
      "2800/2800 [==============================] - 6s 2ms/step - loss: 0.0767 - accuracy: 0.9714 - val_loss: 0.1923 - val_accuracy: 0.9425\n",
      "Epoch 80/100\n",
      "2800/2800 [==============================] - 6s 2ms/step - loss: 0.0762 - accuracy: 0.9725 - val_loss: 0.2468 - val_accuracy: 0.9242\n",
      "Epoch 81/100\n",
      "2800/2800 [==============================] - 6s 2ms/step - loss: 0.0691 - accuracy: 0.9750 - val_loss: 0.2179 - val_accuracy: 0.9367\n",
      "Epoch 82/100\n",
      "2800/2800 [==============================] - 7s 2ms/step - loss: 0.0669 - accuracy: 0.9771 - val_loss: 0.2472 - val_accuracy: 0.9258\n",
      "Epoch 83/100\n",
      "2800/2800 [==============================] - 7s 2ms/step - loss: 0.0667 - accuracy: 0.9768 - val_loss: 0.2117 - val_accuracy: 0.9375\n",
      "Epoch 84/100\n",
      "2800/2800 [==============================] - 8s 3ms/step - loss: 0.0730 - accuracy: 0.9739 - val_loss: 0.2226 - val_accuracy: 0.9358\n",
      "Epoch 85/100\n",
      "2800/2800 [==============================] - 7s 2ms/step - loss: 0.0642 - accuracy: 0.9779 - val_loss: 0.1858 - val_accuracy: 0.9433\n",
      "Epoch 86/100\n",
      "2800/2800 [==============================] - 7s 2ms/step - loss: 0.0644 - accuracy: 0.9768 - val_loss: 0.2060 - val_accuracy: 0.9383\n",
      "Epoch 87/100\n",
      "2800/2800 [==============================] - 7s 2ms/step - loss: 0.0671 - accuracy: 0.9739 - val_loss: 0.1931 - val_accuracy: 0.9408\n",
      "Epoch 88/100\n",
      "2800/2800 [==============================] - 7s 3ms/step - loss: 0.0717 - accuracy: 0.9721 - val_loss: 0.3347 - val_accuracy: 0.9008\n",
      "Epoch 89/100\n",
      "2800/2800 [==============================] - 7s 3ms/step - loss: 0.0705 - accuracy: 0.9746 - val_loss: 0.1854 - val_accuracy: 0.9408\n",
      "Epoch 90/100\n",
      "2800/2800 [==============================] - 7s 2ms/step - loss: 0.0671 - accuracy: 0.9771 - val_loss: 0.1986 - val_accuracy: 0.9408\n",
      "Epoch 91/100\n",
      "2800/2800 [==============================] - 7s 2ms/step - loss: 0.0644 - accuracy: 0.9764 - val_loss: 0.2042 - val_accuracy: 0.9375\n",
      "Epoch 92/100\n",
      "2800/2800 [==============================] - 7s 2ms/step - loss: 0.0593 - accuracy: 0.9807 - val_loss: 0.2116 - val_accuracy: 0.9392\n",
      "Epoch 93/100\n",
      "2800/2800 [==============================] - 7s 2ms/step - loss: 0.0574 - accuracy: 0.9807 - val_loss: 0.1836 - val_accuracy: 0.9467\n",
      "Epoch 94/100\n",
      "2800/2800 [==============================] - 7s 2ms/step - loss: 0.0609 - accuracy: 0.9800 - val_loss: 0.1991 - val_accuracy: 0.9408\n",
      "Epoch 95/100\n",
      "2800/2800 [==============================] - 7s 3ms/step - loss: 0.0569 - accuracy: 0.9789 - val_loss: 0.1883 - val_accuracy: 0.9417\n",
      "Epoch 96/100\n",
      "2800/2800 [==============================] - 7s 2ms/step - loss: 0.0656 - accuracy: 0.9743 - val_loss: 0.2857 - val_accuracy: 0.9175\n",
      "Epoch 97/100\n",
      "2800/2800 [==============================] - 7s 3ms/step - loss: 0.0636 - accuracy: 0.9718 - val_loss: 0.1830 - val_accuracy: 0.9417\n",
      "Epoch 98/100\n",
      "2800/2800 [==============================] - 6s 2ms/step - loss: 0.0568 - accuracy: 0.9768 - val_loss: 0.1832 - val_accuracy: 0.9400\n",
      "Epoch 99/100\n",
      "2800/2800 [==============================] - 7s 2ms/step - loss: 0.0533 - accuracy: 0.9836 - val_loss: 0.2231 - val_accuracy: 0.9383\n",
      "Epoch 100/100\n",
      "2800/2800 [==============================] - 7s 2ms/step - loss: 0.0553 - accuracy: 0.9782 - val_loss: 0.2198 - val_accuracy: 0.9333\n"
     ]
    },
    {
     "data": {
      "text/plain": [
       "<keras.callbacks.callbacks.History at 0x7ff98c3755c0>"
      ]
     },
     "execution_count": 20,
     "metadata": {},
     "output_type": "execute_result"
    }
   ],
   "source": [
    "# Train for 100 Epochs and use TensorBoard Callback\n",
    "model.fit(train_x, train_y, batch_size=256, epochs=100, verbose=1, validation_data=(test_x, test_y), callbacks=[callbacks])"
   ]
  },
  {
   "cell_type": "code",
   "execution_count": 23,
   "metadata": {},
   "outputs": [],
   "source": [
    "# Save Weights\n",
    "model.save_weights('weights.h5')"
   ]
  },
  {
   "cell_type": "code",
   "execution_count": 100,
   "metadata": {},
   "outputs": [],
   "source": [
    "first_sample_array = cv2.imread('ISIC_0000001.jpg', cv2.IMREAD_GRAYSCALE)\n",
    "first_resized_sample = cv2.resize(first_sample_array, (IMG_SIZE, IMG_SIZE))"
   ]
  },
  {
   "cell_type": "code",
   "execution_count": 101,
   "metadata": {},
   "outputs": [],
   "source": [
    "first_resized_sample = first_resized_sample.astype('float32') / 255.\n",
    "first_resized_sample = np.array(first_resized_sample).reshape(-1,IMG_SIZE,IMG_SIZE,1)\n",
    "first_predict_sample = model.predict(first_resized_sample)"
   ]
  },
  {
   "cell_type": "code",
   "execution_count": 102,
   "metadata": {},
   "outputs": [
    {
     "data": {
      "text/plain": [
       "0.05011035"
      ]
     },
     "execution_count": 102,
     "metadata": {},
     "output_type": "execute_result"
    }
   ],
   "source": [
    "first_predict_sample[0][1]"
   ]
  },
  {
   "cell_type": "code",
   "execution_count": 103,
   "metadata": {},
   "outputs": [],
   "source": [
    "second_sample_array = cv2.imread('ISIC_0000000.jpg', cv2.IMREAD_GRAYSCALE)\n",
    "second_resized_sample = cv2.resize(second_sample_array, (IMG_SIZE, IMG_SIZE))"
   ]
  },
  {
   "cell_type": "code",
   "execution_count": 104,
   "metadata": {},
   "outputs": [],
   "source": [
    "second_resized_sample = second_resized_sample.astype('float32') / 255.\n",
    "second_resized_sample = np.array(second_resized_sample).reshape(-1,IMG_SIZE,IMG_SIZE,1)\n",
    "second_predict_sample = model.predict(second_resized_sample)"
   ]
  },
  {
   "cell_type": "code",
   "execution_count": 105,
   "metadata": {},
   "outputs": [
    {
     "data": {
      "text/plain": [
       "1.02605595e-08"
      ]
     },
     "execution_count": 105,
     "metadata": {},
     "output_type": "execute_result"
    }
   ],
   "source": [
    "second_predict_sample[0][1]"
   ]
  },
  {
   "cell_type": "code",
   "execution_count": 106,
   "metadata": {},
   "outputs": [
    {
     "name": "stdout",
     "output_type": "stream",
     "text": [
      "melanoma\n"
     ]
    }
   ],
   "source": [
    "prediction = first_predict_sample\n",
    "if(prediction[0][0]<0.01):\n",
    "    print(\"non_melanoma\")\n",
    "else:\n",
    "    print(\"melanoma\")"
   ]
  },
  {
   "cell_type": "code",
   "execution_count": null,
   "metadata": {},
   "outputs": [],
   "source": []
  }
 ],
 "metadata": {
  "kernelspec": {
   "display_name": "Python 3",
   "language": "python",
   "name": "python3"
  },
  "language_info": {
   "codemirror_mode": {
    "name": "ipython",
    "version": 3
   },
   "file_extension": ".py",
   "mimetype": "text/x-python",
   "name": "python",
   "nbconvert_exporter": "python",
   "pygments_lexer": "ipython3",
   "version": "3.6.9"
  }
 },
 "nbformat": 4,
 "nbformat_minor": 2
}
